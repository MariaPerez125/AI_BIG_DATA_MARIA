{
 "cells": [
  {
   "cell_type": "markdown",
   "id": "59284792",
   "metadata": {},
   "source": [
    "# Adquisición y Almacenamiento de Datos\n",
    "\n",
    "## Objetivos\n",
    "\n",
    "- Aprender cómo obtener datos de fuentes externas (APIs, web scraping).\n",
    "- Aprender a almacenar los datos adquiridos en archivos adecuados."
   ]
  },
  {
   "cell_type": "code",
   "execution_count": null,
   "id": "71b076c2",
   "metadata": {},
   "outputs": [],
   "source": [
    "\n",
    "import requests \n",
    "import pandas as pd \n",
    "import matplotlib.pyplot as plt \n",
    "import json \n",
    "\n",
    "api_key = 'tu_api_key' \n",
    "ciudad = \"La Laguna\" \n",
    "url = f'http://api.openweathermap.org/data/2.5/weather?q={ciudad}&appid={api_key}' \n",
    "response = requests.get(url) \n",
    "data = response.json() \n",
    "\n",
    "# Muestra los datos obtenidos \n",
    "print(data) \n",
    "\n",
    "# Guardar en CSV\n",
    "df = pd.DataFrame([data]) \n",
    "df.to_csv(f'clima_{ciudad}.csv', index=False)\n"
   ]
  },
  {
   "cell_type": "code",
   "execution_count": null,
   "id": "6e347351",
   "metadata": {},
   "outputs": [],
   "source": [
    "\n",
    "from bs4 import BeautifulSoup  \n",
    "import requests  \n",
    "import pandas as pd\n",
    "\n",
    "# Definir la URL del sitio web \n",
    "url = 'https://www.bbc.com' \n",
    "\n",
    "# Realizar la solicitud HTTP \n",
    "response = requests.get(url) \n",
    "\n",
    "# Analizar el contenido HTML \n",
    "soup = BeautifulSoup(response.content, 'html.parser') \n",
    "\n",
    "# Buscar todas las etiquetas <h2> \n",
    "headlines = soup.find_all('h2') \n",
    "\n",
    "# Extraer y almacenar los titulares \n",
    "titles = [headline.text.strip() for headline in headlines if headline.text.strip()] \n",
    "\n",
    "# Guardar en CSV\n",
    "df = pd.DataFrame(titles, columns=['Headline']) \n",
    "df.to_csv('bbc_headlines.csv', index=False) \n",
    "\n",
    "# Mostrar los titulares\n",
    "print(\"\n",
    "\".join(titles))\n"
   ]
  }
 ],
 "metadata": {},
 "nbformat": 4,
 "nbformat_minor": 5
}