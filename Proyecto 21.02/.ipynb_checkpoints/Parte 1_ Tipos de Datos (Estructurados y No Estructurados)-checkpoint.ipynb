{
 "cells": [
  {
   "cell_type": "markdown",
   "metadata": {},
   "source": [
    "### Actividad: Tipos de Datos y Adquisición de Datos en Python"
   ]
  },
  {
   "cell_type": "markdown",
   "metadata": {},
   "source": [
    "### Parte 1: Tipos de Datos (Estructurados y No Estructurados)\n",
    "Objetivos:\n",
    "- Comprender la diferencia entre datos estructurados y no estructurados.\n",
    "- Aprender a trabajar con ambos tipos de datos en Python."
   ]
  },
  {
   "cell_type": "markdown",
   "metadata": {},
   "source": [
    "### Instrucciones Paso a Paso"
   ]
  },
  {
   "cell_type": "markdown",
   "metadata": {},
   "source": [
    "### 1. Investigación Teórica"
   ]
  },
  {
   "cell_type": "markdown",
   "metadata": {},
   "source": [
    "### Objetivo: Investigar y entender las diferencias entre datos estructurados y no estructurados.\n"
   ]
  },
  {
   "cell_type": "markdown",
   "metadata": {
    "scrolled": true
   },
   "source": [
    "### 1. Lee y resume la siguiente información sobre los tipos de datos:\n",
    "### Datos estructurados: Son aquellos datos organizados en un formato claro y predecible, como bases de datos o archivos CSV. Se pueden organizar en filas y columnas (tablas).\n",
    "- Datos no estructurados: Son datos que no tienen un formato específico o rígido, como textos, imágenes, videos, etc.\n",
    "### 2. Responde las siguientes preguntas en tu informe:\n",
    "- ¿Cuáles son las principales características de los datos estructurados y no estructurados?\n",
    "\n",
    "DATOS ESTRUCTURADOS\n",
    "\n",
    "Características principales:\n",
    "-Buscable\n",
    "-Generalmente formato de texto\n",
    "-Cuantitativo\t\n",
    "\n",
    "Almacenamiento:\t\n",
    "-Bases de datos relacionales\n",
    "-Almacenes de datos\t\n",
    "\n",
    "Utilidad:\n",
    "-Control de inventario\n",
    "-Sistemas CRM\n",
    "-Sistemas ERP\n",
    "\n",
    "Ejemplos:\n",
    "Fechas, números de teléfono, números de cuenta bancaria, SKU de productos\t\n",
    "\n",
    "DATOS NO ESTRUCTURADOS\n",
    "\n",
    "Características principales:\n",
    "-Difícil de buscar\n",
    "-Muchos formatos de datos\n",
    "-Cualitativo\n",
    "\n",
    "Almacenamiento:\t\n",
    "-Lagos de datos\n",
    "-Bases de datos no relacionales\n",
    "-Almacenes de datos\n",
    "-Bases de datos NoSQL\n",
    "-Aplicaciones\n",
    "\n",
    "Utilidad:\n",
    "-Software de presentación o procesamiento de textos\n",
    "-Herramientas para visualizar o editar medios\n",
    "\n",
    "Ejemplos:\n",
    "Correos electrónicos, canciones, vídeos, fotos, informes, presentaciones.\t\n",
    "\n",
    "- ¿Cuáles son las ventajas y desventajas de trabajar con cada tipo de dato?\n",
    "\n",
    "DATOS ESTRUCTURADOS\n",
    "VENTAJAS\t\n",
    "-Se puede buscar fácilmente y se utiliza para algoritmos de aprendizaje automático.\t\n",
    "-Es accesible para empresas y organizaciones para interpretar datos.\t\n",
    "-Hay más herramientas disponibles para analizar datos estructurados que no estructurados.\t\n",
    "\n",
    "CONTRAS\n",
    "-Su uso es limitado, lo que significa que solo se puede utilizar para el propósito previsto. \n",
    "-Tiene opciones de almacenamiento limitadas porque se almacena en sistemas como almacenes de datos con esquemas rígidos.\n",
    "-Requiere formatos tabulares que requieren un esquema rígido que consta de campos predefinidos.\n",
    "\n",
    "DATOS NO ESTRUCTURADOS\n",
    "VENTAJAS\n",
    "-Permanece indefinido hasta que se necesita, lo que lo hace adaptable para que los profesionales de datos tomen solo lo que necesitan para una consulta específica mientras almacenan la mayoría de los datos en lagos de datos masivos.\n",
    "-Dentro de las definiciones, los datos no estructurados se pueden recopilar de forma rápida y sencilla.\n",
    "\n",
    "CONTRAS\n",
    "-Requiere que los científicos de datos tengan experiencia en la preparación y el análisis de los datos, lo que podría restringir el acceso a ellos a otros empleados de la organización.\n",
    "-Se necesitan herramientas especiales para tratar datos no estructurados, lo que contribuye aún más a su falta de accesibilidad.\n",
    "    \n",
    "- Da ejemplos de datos no estructurados más allá de texto (por ejemplo, audio o imágenes).\n",
    "\n",
    "Correos electrónicos, canciones, vídeos, fotos, informes, presentaciones.\n",
    "\n",
    "- ¿Qué desafíos existen al trabajar con cada tipo de dato?\n",
    "\n",
    "DATOS ESTRUCTURADOS\n",
    "Tienen un uso limitado (solo para el propósito previsto) y opciones de almacenamiento limitadas (almacenes de datos con esquemas rígidos). Requiere formatos tabulares de esquema rígido y campos predefinidos.\n",
    "\n",
    "DATOS NO ESTRUCTURADOS\n",
    "Requiere científicos de datos con experiencia y herramientas especiales para tratar los datos, lo que contribuye a su falta de accesibilidad."
   ]
  },
  {
   "cell_type": "markdown",
   "metadata": {
    "scrolled": true
   },
   "source": [
    "### 2. Actividad Práctica\n",
    "- Objetivo: Cargar y explorar datos estructurados y no estructurados en Python.\n",
    "### 1. Trabajando con Datos Estructurados:\n",
    "- Paso 1: Descarga un conjunto de datos en formato CSV desde un sitio web como Kaggle o datos sintéticos.\n",
    "- Paso 2: Carga el archivo CSV en un DataFrame de Pandas. Abre una terminal o un Jupyter Notebook y ejecuta el siguiente código:\n"
   ]
  },
  {
   "cell_type": "markdown",
   "metadata": {},
   "source": [
    "import pandas as pd\n",
    "# Carga de archivo CSV\n",
    "df = pd.read_csv('ruta/a/tu/archivo.csv')\n",
    "# Ver las primeras filas\n",
    "print(df.head())\n",
    "# Información general del DataFrame\n",
    "print(df.info())\n"
   ]
  },
  {
   "cell_type": "code",
   "execution_count": 1,
   "metadata": {},
   "outputs": [],
   "source": [
    "import pandas as pd"
   ]
  },
  {
   "cell_type": "code",
   "execution_count": 2,
   "metadata": {},
   "outputs": [],
   "source": [
    "df = pd.read_csv('Fitness Tracker Dataset copy.csv')"
   ]
  },
  {
   "cell_type": "code",
   "execution_count": 3,
   "metadata": {},
   "outputs": [
    {
     "name": "stdout",
     "output_type": "stream",
     "text": [
      "    Age  Gender  Weight (kg)  Height (m) Max_BPM  Avg_BPM  Resting_BPM  \\\n",
      "0  34.0  Female         86.7        1.86     174    152.0         74.0   \n",
      "1  26.0  Female         84.7        1.83     166    156.0         73.0   \n",
      "2  22.0    Male         64.8        1.85     187    166.0         64.0   \n",
      "3  54.0  Female         75.3        1.82     187    169.0         58.0   \n",
      "4  34.0  Female         52.8        1.74     177    169.0         66.0   \n",
      "\n",
      "   Session_Duration (hours)  Calories_Burned Workout_Type  Fat_Percentage  \\\n",
      "0                      1.12            712.0     Strength            12.8   \n",
      "1                      1.00            833.0     Strength            27.9   \n",
      "2                      1.24           1678.0       Cardio            28.7   \n",
      "3                      1.45            628.0       Cardio            31.8   \n",
      "4                      1.60           1286.0     Strength            26.4   \n",
      "\n",
      "   Water_Intake (liters)  Workout_Frequency (days/week)  Experience_Level  \\\n",
      "0                    2.4                            5.0               2.0   \n",
      "1                    2.8                            5.0               2.0   \n",
      "2                    1.9                            3.0               2.0   \n",
      "3                    2.4                            4.0               1.0   \n",
      "4                    3.2                            4.0               2.0   \n",
      "\n",
      "     BMI  \n",
      "0  14.31  \n",
      "1  33.49  \n",
      "2  12.73  \n",
      "3  20.37  \n",
      "4  20.83  \n"
     ]
    }
   ],
   "source": [
    "print(df.head())"
   ]
  },
  {
   "cell_type": "code",
   "execution_count": 4,
   "metadata": {},
   "outputs": [
    {
     "name": "stdout",
     "output_type": "stream",
     "text": [
      "<class 'pandas.core.frame.DataFrame'>\n",
      "RangeIndex: 1800 entries, 0 to 1799\n",
      "Data columns (total 15 columns):\n",
      " #   Column                         Non-Null Count  Dtype  \n",
      "---  ------                         --------------  -----  \n",
      " 0   Age                            1790 non-null   float64\n",
      " 1   Gender                         1729 non-null   object \n",
      " 2   Weight (kg)                    1778 non-null   float64\n",
      " 3   Height (m)                     1774 non-null   float64\n",
      " 4   Max_BPM                        1779 non-null   object \n",
      " 5   Avg_BPM                        1770 non-null   float64\n",
      " 6   Resting_BPM                    1781 non-null   float64\n",
      " 7   Session_Duration (hours)       1777 non-null   float64\n",
      " 8   Calories_Burned                1777 non-null   float64\n",
      " 9   Workout_Type                   1739 non-null   object \n",
      " 10  Fat_Percentage                 1784 non-null   float64\n",
      " 11  Water_Intake (liters)          1776 non-null   float64\n",
      " 12  Workout_Frequency (days/week)  1742 non-null   float64\n",
      " 13  Experience_Level               1743 non-null   float64\n",
      " 14  BMI                            1770 non-null   float64\n",
      "dtypes: float64(12), object(3)\n",
      "memory usage: 211.1+ KB\n",
      "None\n"
     ]
    }
   ],
   "source": [
    "print(df.info())"
   ]
  },
  {
   "cell_type": "markdown",
   "metadata": {},
   "source": [
    "### 2. Trabajando con Datos No Estructurados (Texto):\n",
    "- Paso 1: Descarga un archivo de texto (puede ser un archivo de tweets o comentarios en un foro).\n",
    "- Paso 2: Carga el archivo de texto en Python y realiza un análisis simple. Puedes usar el siguiente código:"
   ]
  },
  {
   "cell_type": "markdown",
   "metadata": {},
   "source": [
    "with open(archivo.txt', 'r') as file:\n",
    "    text_data = file.read()\n",
    "# Muestra las primeras líneas\n",
    "\n"
   ]
  },
  {
   "cell_type": "code",
   "execution_count": 10,
   "metadata": {},
   "outputs": [
    {
     "name": "stdout",
     "output_type": "stream",
     "text": [
      "Lorem ipsum dolor sit amet, consectetur adipiscing elit. Donec convallis quis massa et mollis. Mauris maximus dolor libero, id consectetur ipsum sollicitudin sit amet. Mauris et pellentesque est, quis suscipit neque. Vestibulum lobortis ultrices laoreet. Sed molestie malesuada justo, nec finibus nisi venenatis vel. Quisque sed urna ligula. Sed faucibus, mi a efficitur blandit, odio ligula auctor arcu, vitae tempor nibh dui vel metus. Integer gravida, felis vel semper commodo, odio urna bibendum \n"
     ]
    }
   ],
   "source": [
    "with open('Nuevo Documento de texto.txt', 'r') as file:\n",
    "    text_data = file.read()\n",
    "\n",
    "print(text_data[:500])"
   ]
  },
  {
   "cell_type": "code",
   "execution_count": 6,
   "metadata": {},
   "outputs": [
    {
     "name": "stdout",
     "output_type": "stream",
     "text": [
      "\n"
     ]
    }
   ],
   "source": [
    "print(text_data[:500])"
   ]
  },
  {
   "cell_type": "markdown",
   "metadata": {},
   "source": [
    "- Paso 3: Usa herramientas de procesamiento de texto básicas como split() para dividir el texto en palabras:"
   ]
  },
  {
   "cell_type": "code",
   "execution_count": 11,
   "metadata": {},
   "outputs": [
    {
     "name": "stdout",
     "output_type": "stream",
     "text": [
      "['Lorem', 'ipsum', 'dolor', 'sit', 'amet,', 'consectetur', 'adipiscing', 'elit.', 'Donec', 'convallis', 'quis', 'massa', 'et', 'mollis.', 'Mauris', 'maximus', 'dolor', 'libero,', 'id', 'consectetur']\n"
     ]
    }
   ],
   "source": [
    "words = text_data.split()\n",
    "print(words[:20]) # Muestra las primeras 20 palabras"
   ]
  },
  {
   "cell_type": "markdown",
   "metadata": {},
   "source": [
    "### 3. Entregable:\n",
    "● Escribe un informe que incluya:\n",
    "- Respuestas a las preguntas teóricas.\n",
    "- El código utilizado para cargar y explorar los datos (tanto estructurados como no estructurados).\n",
    "- Una breve interpretación de los datos y cualquier hallazgo interesante que hayas observado."
   ]
  }
 ],
 "metadata": {
  "kernelspec": {
   "display_name": "Python 3 (ipykernel)",
   "language": "python",
   "name": "python3"
  },
  "language_info": {
   "codemirror_mode": {
    "name": "ipython",
    "version": 3
   },
   "file_extension": ".py",
   "mimetype": "text/x-python",
   "name": "python",
   "nbconvert_exporter": "python",
   "pygments_lexer": "ipython3",
   "version": "3.12.9"
  }
 },
 "nbformat": 4,
 "nbformat_minor": 4
}
