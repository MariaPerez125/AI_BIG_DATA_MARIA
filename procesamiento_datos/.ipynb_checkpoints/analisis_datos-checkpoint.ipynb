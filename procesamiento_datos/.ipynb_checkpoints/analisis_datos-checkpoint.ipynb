{
 "cells": [
  {
   "cell_type": "code",
   "execution_count": 1,
   "id": "61c1dfef-178e-4851-aa58-389ab3a47a31",
   "metadata": {},
   "outputs": [
    {
     "name": "stdout",
     "output_type": "stream",
     "text": [
      "\n",
      "Primeras filas del dataset:\n"
     ]
    }
   ],
   "source": [
    "# Importar bibliotecas necesarias para el análisis de datos y visualización\n",
    "import numpy as np  # Para operaciones numéricas y generación de datos aleatorios\n",
    "import pandas as pd  # Para manipulación de datos en formato DataFrame\n",
    "import matplotlib.pyplot as plt  # Para crear visualizaciones\n",
    "import seaborn as sns  # Para visualizaciones estadísticas mejoradas\n",
    "from sklearn.preprocessing import StandardScaler, MinMaxScaler  # Para normalización de datos\n",
    "from sklearn.impute import SimpleImputer  # Para manejar valores faltantes\n",
    "from sklearn.preprocessing import LabelEncoder  # Para codificar variables categóricas\n",
    "\n",
    "# Configurar el estilo de las gráficas para mejor visualización\n",
    "plt.style.use('seaborn-v0_8-whitegrid')  # Aplicar estilo seaborn para gráficos más atractivos\n",
    "\n",
    "# Cargar los datos generados \"pacientes_mejorado.csv\"\n",
    "pacientes_df = pd.read_csv('pacientes_mejorado.csv')\n",
    "\n",
    "print(\"\\nPrimeras filas del dataset:\")\n",
    "\n"
   ]
  },
  {
   "cell_type": "code",
   "execution_count": 2,
   "id": "4ea1f535-aa07-4bc8-b0c1-1ec5b2eba79b",
   "metadata": {},
   "outputs": [
    {
     "name": "stdout",
     "output_type": "stream",
     "text": [
      "\n",
      "\n",
      "=== 1. Limpieza de datos ===\n",
      "\n",
      "Valores faltantes antes de la limpieza:\n",
      "\n",
      "=== Valores faltantes después de la limpieza: ===\n"
     ]
    }
   ],
   "source": [
    "# 1. Limpieza de datos: Manejo de valores faltantes\n",
    "print(\"\\n\\n=== 1. Limpieza de datos ===\")\n",
    "print(\"\\nValores faltantes antes de la limpieza:\")\n",
    "\n",
    "\n",
    "# Crear visualización de matriz de correlación con datos faltantes\n",
    "\n",
    "\n",
    "# Imputación de valores faltantes usando la mediana para mediciones numéricas\n",
    "\n",
    "\n",
    "print(\"\\n=== Valores faltantes después de la limpieza: ===\")\n",
    "\n"
   ]
  },
  {
   "cell_type": "markdown",
   "id": "914f726e-f2ab-41c8-84f0-fc100cf53e96",
   "metadata": {},
   "source": [
    "#### Gráfico propuesto: Countplot para las categorías de frecuencia cardíaca (categoria_fc)"
   ]
  },
  {
   "cell_type": "code",
   "execution_count": 3,
   "id": "ac53b853-94a5-44cc-a769-a463a5c47b8f",
   "metadata": {},
   "outputs": [
    {
     "name": "stdout",
     "output_type": "stream",
     "text": [
      "\n",
      "=== 2. Enriquecimiento de datos ===\n",
      "       presion_sistolica  presion_diastolica\n",
      "count        8944.000000        10000.000000\n",
      "mean          120.353969           73.872354\n",
      "std            23.710637           12.755227\n",
      "min            80.000000           60.000000\n",
      "25%           102.515379           61.361168\n",
      "50%           119.860956           71.777373\n",
      "75%           136.849960           82.479314\n",
      "max           200.000000          126.307305\n"
     ]
    },
    {
     "data": {
      "text/plain": [
       "<Figure size 500x300 with 0 Axes>"
      ]
     },
     "execution_count": 3,
     "metadata": {},
     "output_type": "execute_result"
    },
    {
     "data": {
      "text/plain": [
       "<Figure size 500x300 with 0 Axes>"
      ]
     },
     "metadata": {},
     "output_type": "display_data"
    },
    {
     "data": {
      "text/plain": [
       "<Figure size 500x300 with 0 Axes>"
      ]
     },
     "metadata": {},
     "output_type": "display_data"
    }
   ],
   "source": [
    "# 2. Enriquecimiento de datos: Crear nuevas características clínicamente relevantes\n",
    "print(\"\\n=== 2. Enriquecimiento de datos ===\")\n",
    "\n",
    "print(pacientes_df[['presion_sistolica', 'presion_diastolica']].describe())\n",
    "\n",
    "\n",
    "# Calcular índice de riesgo cardiovascular basado en presión arterial\n",
    "\n",
    "\n",
    "# Crear categorías de frecuencia cardíaca según rangos clínicos\n",
    "\n",
    "\n",
    "####################### Distribución de Categorías de Frecuencia Cardíaca. ####################\n",
    "\n",
    "# Configurar el tamaño de la figura\n",
    "plt.figure(figsize=(5, 3))\n",
    "\n",
    "# Crear el countplot\n",
    "\n",
    "\n",
    "# Personalizar el gráfico\n",
    "\n",
    "\n",
    "# Mostrar el gráfico\n",
    "\n",
    "\n",
    "########################### Riesgo Cardiovascular ####################\n",
    "plt.figure(figsize=(5, 3))\n",
    "\n",
    "\n",
    "\n",
    "\n",
    "# Agregar la leyenda fuera del gráfico\n",
    "# plt.legend(title='Riesgo Cardiovascular', loc='upper left', bbox_to_anchor=(1, 1))\n",
    "\n",
    "# Ajustar para evitar solapamientos\n",
    "\n",
    "\n",
    "#######################  Heatmap correlación entre vaiables. ###############\n",
    "# Seleccionar columnas numéricas\n",
    "\n",
    "# Crear el heatmap\n",
    "\n",
    "\n",
    "####################### Boxplot para presión arterial por categoría de frecuencia cardíaca ###################\n",
    "\n",
    "\n"
   ]
  },
  {
   "cell_type": "code",
   "execution_count": 4,
   "id": "b9d4f8f5-5327-4f8d-9dc3-46467703d5c1",
   "metadata": {},
   "outputs": [
    {
     "name": "stdout",
     "output_type": "stream",
     "text": [
      "\n",
      "=== 3. Preprocesamiento ===\n",
      "\n",
      "Estadísticas descriptivas después del preprocesamiento:\n"
     ]
    }
   ],
   "source": [
    "# 3. Preprocesamiento de datos\n",
    "print(\"\\n=== 3. Preprocesamiento ===\")\n",
    "\n",
    "# Crear las categorías de edad antes de la normalización\n",
    "\n",
    "\n",
    "# Estandarización de variables numéricas para análisis estadístico\n",
    "\n",
    "\n",
    "# Normalización usando Min-Max Scaler para variables que deben estar entre 0 y 1\n",
    "\n",
    "\n",
    "# Codificación de variables categóricas para análisis numérico\n",
    "\n",
    "\n",
    "print(\"\\nEstadísticas descriptivas después del preprocesamiento:\")\n",
    "\n"
   ]
  },
  {
   "cell_type": "code",
   "execution_count": 5,
   "id": "ddd98c15-156a-4104-8438-20c619aa09c4",
   "metadata": {},
   "outputs": [
    {
     "data": {
      "image/png": "[encoded data removed]",
      "text/plain": [
       "<Figure size 1500x1000 with 1 Axes>"
      ]
     },
     "metadata": {},
     "output_type": "display_data"
    }
   ],
   "source": [
    "# Configurar tamaño de las gráficas\n",
    "plt.figure(figsize=(15, 10))\n",
    "\n",
    "# 1. Distribución de variables numéricas antes y después del preprocesamiento\n",
    "# Antes del preprocesamiento\n",
    "\n",
    "\n",
    "# 2. Distribución de las variables numéricas después del preprocesamiento (usando MinMaxScaler)\n",
    "plt.subplot(2, 2, 3)\n",
    "\n",
    "\n",
    "# Ajuste del diseño para las 4 gráficas\n",
    "plt.tight_layout()\n",
    "\n",
    "# 3. Distribución de las variables categóricas codificadas\n",
    "# Visualizar la codificación de género y diagnóstico con hue para diferenciación por género\n",
    "\n",
    "\n",
    "# Visualizar la distribución del diagnóstico con hue para diferenciación por diagnóstico\n",
    "\n",
    "\n",
    "# Ajuste del diseño para las gráficas categóricas\n",
    "plt.tight_layout()\n",
    "\n",
    "\n",
    "\n",
    "# Graficar la distribución de los pacientes por edad y género codificado\n",
    "\n",
    "\n"
   ]
  }
 ],
 "metadata": {
  "kernelspec": {
   "display_name": "Python 3 (ipykernel)",
   "language": "python",
   "name": "python3"
  },
  "language_info": {
   "codemirror_mode": {
    "name": "ipython",
    "version": 3
   },
   "file_extension": ".py",
   "mimetype": "text/x-python",
   "name": "python",
   "nbconvert_exporter": "python",
   "pygments_lexer": "ipython3",
   "version": "3.9.21"
  }
 },
 "nbformat": 4,
 "nbformat_minor": 5
}
